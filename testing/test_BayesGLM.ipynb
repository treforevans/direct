{
 "cells": [
  {
   "cell_type": "code",
   "execution_count": 1,
   "metadata": {
    "collapsed": true
   },
   "outputs": [],
   "source": [
    "% matplotlib inline\n",
    "import matplotlib.pyplot as plt\n",
    "import numpy as np\n",
    "from numpy.testing import *\n",
    "from pdb import set_trace\n",
    "import direct\n",
    "from direct.misc import RBF_RFFs, KronMatrix, KhatriRaoMeshgrid, log_softmax\n",
    "import tensorflow as tf"
   ]
  },
  {
   "cell_type": "markdown",
   "metadata": {},
   "source": [
    "# Two Parameter Model"
   ]
  },
  {
   "cell_type": "markdown",
   "metadata": {},
   "source": [
    "## Mean Field Variational Distribution\n",
    "### Ensure ELBO computed Correctly\n",
    "compute the exact ELBO with the initialized mean-field variational distribution and check if correct."
   ]
  },
  {
   "cell_type": "code",
   "execution_count": 2,
   "metadata": {},
   "outputs": [
    {
     "name": "stdout",
     "output_type": "stream",
     "text": [
      "[ 23:39:53 ] direct.models INFO: Inititializing model\n",
      "test passed.\n"
     ]
    }
   ],
   "source": [
    "np.random.seed(0)\n",
    "\n",
    "# create a fake dataset\n",
    "n = 50\n",
    "sig2_grid = np.atleast_1d([0.01, 0.02])\n",
    "x = np.random.rand(n,1);\n",
    "Phi = np.hstack((x, np.ones(x.shape)))\n",
    "xx = np.linspace(0,1,num=50).reshape((-1,1))\n",
    "Phi_X = np.hstack((xx, np.ones(xx.shape)))\n",
    "w_exact = 1.\n",
    "y = w_exact*np.sum(Phi,axis=1,keepdims=True)\n",
    "y += np.random.normal(size=(n,1), scale=np.sqrt(sig2_grid[0])) # add some noise\n",
    "\n",
    "# initialize the W grid, and the prior / variational distibution\n",
    "wbar = [-1.,-0.5,0.,0.5,1.]\n",
    "Wbar = np.array([wbar,]*Phi.shape[1])\n",
    "mbar = Wbar.shape[1]\n",
    "W = KhatriRaoMeshgrid(Wbar).expand()\n",
    "sig2_biggrid = np.tile(sig2_grid.reshape((-1,1)),(1,W.shape[1])).reshape(-1) # the sig2 elements correspond to W cols\n",
    "W = np.tile(W,(1,sig2_grid.size)) # W is repeated the number of times for sig2\n",
    "P = np.zeros((Phi.shape[1], mbar)) + 1./mbar # prior for weights\n",
    "psig = np.zeros(sig2_grid.shape) + 1./sig2_grid.size # prior for sig2\n",
    "\n",
    "# compute the exact log-likelihood\n",
    "logl_exact = np.zeros((W.shape[1],1))\n",
    "for i,(w,sig2) in enumerate(zip(W.T, sig2_biggrid)): # loop through each possible set of parameters\n",
    "    logl_exact[i] = -np.sum(np.power(y-Phi.dot(w.reshape((-1,1))), 2))/(2.*sig2) - n*np.log(sig2)/2\n",
    "del sig2\n",
    "\n",
    "# now initialize the model and compute the ELBO with a random initial variational distribution\n",
    "with tf.Session() as sess:\n",
    "    m = direct.BayesGLM(Phi=Phi, sig2_grid=sig2_grid, y=y, Wbar=Wbar, logP=np.log(P), logpsig=np.log(psig),\n",
    "                 logQ=np.random.randn(*P.shape), logqsig=np.random.randn(*psig.shape))\n",
    "    sess.run(tf.global_variables_initializer())\n",
    "    assert_array_almost_equal(np.ones(m.b), sess.run(tf.reduce_sum(tf.exp(m.logQ), axis=1)),\n",
    "                             err_msg=\"Var dist not normalized correctly.\")\n",
    "    ELBO = sess.run(m.ELBO)\n",
    "    Q = sess.run(tf.exp(m.logQ))\n",
    "    qsig = sess.run(tf.exp(m.logqsig))\n",
    "\n",
    "    # compute the ELBO manually\n",
    "    prior_expanded = np.kron(psig.reshape((-1,1)), KronMatrix(np.expand_dims(P, axis=2)).expand())\n",
    "    q_expanded = np.kron(qsig, KronMatrix(np.expand_dims(Q,axis=2)).expand())\n",
    "    ELBO_exact = q_expanded.T.dot(np.log(prior_expanded) - np.log(q_expanded) + logl_exact)\n",
    "\n",
    "    assert_array_almost_equal(ELBO_exact, ELBO, err_msg=\"ELBO not computed exactly\")\n",
    "print(\"test passed.\")"
   ]
  },
  {
   "cell_type": "markdown",
   "metadata": {},
   "source": [
    "### Optimize\n",
    "Optimize the variational distribution and ensure it is larger than the initial ELBO"
   ]
  },
  {
   "cell_type": "code",
   "execution_count": 3,
   "metadata": {},
   "outputs": [
    {
     "name": "stdout",
     "output_type": "stream",
     "text": [
      "[ 23:39:54 ] direct.models INFO: Inititializing model\n",
      "[ 23:39:54 ] direct.models INFO: Beginnning training iterations. n_epochs=1000\n",
      "[ 23:39:54 ] direct.models INFO: using L-BFGS-B optimizer\n",
      "Epoch: 0001, ELBO: -5654.5434, Time elapsed: 0.07504 seconds.\n",
      "Epoch: 0005, ELBO: -61.437337, Time elapsed: 0.08506 seconds.\n",
      "Epoch: 0010, ELBO: 79.270504, Time elapsed: 0.09006 seconds.\n",
      "Epoch: 0015, ELBO: 88.906793, Time elapsed: 0.09505 seconds.\n",
      "Epoch: 0020, ELBO: 88.911858, Time elapsed: 0.104 seconds.\n",
      "Epoch: 0025, ELBO: 88.912154, Time elapsed: 0.11 seconds.\n",
      "Epoch: 0030, ELBO: 88.912168, Time elapsed: 0.116 seconds.\n",
      "INFO:tensorflow:Optimization terminated with:\n",
      "  Message: b'CONVERGENCE: NORM_OF_PROJECTED_GRADIENT_<=_PGTOL'\n",
      "  Objective function value: -88.912168\n",
      "  Number of iterations: 27\n",
      "  Number of functions evaluations: 30\n",
      "[ 23:40:01 ] tensorflow INFO: Optimization terminated with:\n",
      "  Message: b'CONVERGENCE: NORM_OF_PROJECTED_GRADIENT_<=_PGTOL'\n",
      "  Objective function value: -88.912168\n",
      "  Number of iterations: 27\n",
      "  Number of functions evaluations: 30\n",
      "Optimization Finished!\n",
      "Epoch: 0031, ELBO: 88.912168\n"
     ]
    }
   ],
   "source": [
    "with tf.Session() as sess:\n",
    "    # reinitialize the model and compute the ELBO with initial variational distribution set to prior\n",
    "    m = direct.BayesGLM(Phi=Phi, sig2_grid=sig2_grid, y=y, Wbar=Wbar, logP=np.log(P), logpsig=np.log(psig))\n",
    "    sess.run(tf.global_variables_initializer())\n",
    "    trace = m.train(n_epochs=1000, sess=sess, display_step=5)\n",
    "    assert_array_less(ELBO, sess.run(m.ELBO), err_msg=\"ELBO did not increase in training\")\n",
    "    Q = sess.run(tf.exp(m.logQ))\n",
    "    qsig = sess.run(tf.exp(m.logqsig))\n",
    "    y_mean = sess.run(m.predict_mean(Phi_X=Phi_X))"
   ]
  },
  {
   "cell_type": "markdown",
   "metadata": {},
   "source": [
    "Plot the variational distribution verses the exact posterior. Also plot the prior since this was what the variational distribution was initialized to."
   ]
  },
  {
   "cell_type": "code",
   "execution_count": 4,
   "metadata": {},
   "outputs": [
    {
     "data": {
      "text/plain": [
       "<matplotlib.text.Text at 0x2b560d1f6d8>"
      ]
     },
     "execution_count": 4,
     "metadata": {},
     "output_type": "execute_result"
    },
    {
     "data": {
      "image/png": "[encoded data removed]",
      "text/plain": [
       "<matplotlib.figure.Figure at 0x2b560bfa748>"
      ]
     },
     "metadata": {},
     "output_type": "display_data"
    }
   ],
   "source": [
    "fig, ax_arr = plt.subplots(ncols=3, figsize=(8,4))\n",
    "# compute the exact parameter posterior\n",
    "log_posterior = log_softmax(logl_exact + prior_expanded, axis=0).reshape(\n",
    "    (mbar,)*m.b + (sig2_grid.size,), order='F')[:,:,0] # take slice along first sig2 value\n",
    "# get the prior and the variational dist\n",
    "log_prior = prior_expanded.reshape((mbar,)*m.b + (sig2_grid.size,), order='F')[:,:,0] # slice along first sig2 value\n",
    "log_variational = np.log(KronMatrix(np.expand_dims(Q,axis=2)).expand()).reshape((mbar,)*m.b, order='F')\n",
    "# get the min and max values of everything so that I can plot it all on the same scale\n",
    "vmin = np.min(np.hstack((log_posterior, log_prior, log_variational)))\n",
    "vmax = np.max(np.hstack((log_posterior, log_prior, log_variational)))\n",
    "\n",
    "# plot\n",
    "ax_arr[0].imshow(log_variational, interpolation='None', cmap='gray_r')#, vmin=vmin, vmax=vmax)\n",
    "ax_arr[0].set_title('Variational')\n",
    "ax_arr[1].imshow(log_posterior, interpolation='None', cmap='gray_r')#, vmin=vmin, vmax=vmax)\n",
    "ax_arr[1].set_title('Posterior')\n",
    "ax_arr[2].imshow(log_prior, interpolation='None', cmap='gray_r', vmin=log_prior.min()-0.1, vmax=log_prior.max()+0.1)\n",
    "ax_arr[2].set_title('Prior')"
   ]
  },
  {
   "cell_type": "markdown",
   "metadata": {},
   "source": [
    "Compute the posterior mean using the variational distribution. \n",
    "We will consider the full support of the variational distribution, i.e. consider every possible set of parameter values."
   ]
  },
  {
   "cell_type": "code",
   "execution_count": 5,
   "metadata": {},
   "outputs": [
    {
     "data": {
      "text/plain": [
       "<matplotlib.legend.Legend at 0x2b561e1e6a0>"
      ]
     },
     "execution_count": 5,
     "metadata": {},
     "output_type": "execute_result"
    },
    {
     "data": {
      "image/png": "[encoded data removed]",
      "text/plain": [
       "<matplotlib.figure.Figure at 0x2b55de9eac8>"
      ]
     },
     "metadata": {},
     "output_type": "display_data"
    }
   ],
   "source": [
    "fig, ax = plt.subplots()\n",
    "ax.plot(x,y,'o')\n",
    "ax.plot(xx, y_mean, label='Posterior mean')\n",
    "ax.plot(xx, w_exact*(xx+1.), label='exact')\n",
    "ax.legend(loc=0)"
   ]
  },
  {
   "cell_type": "markdown",
   "metadata": {},
   "source": [
    "## Mixture Variational Distribution\n",
    "### Ensure ELBO Lower bound computed Correctly\n",
    "compute the exact ELBO with the initialized mixture variational distribution and check if correct."
   ]
  },
  {
   "cell_type": "code",
   "execution_count": 6,
   "metadata": {},
   "outputs": [
    {
     "name": "stdout",
     "output_type": "stream",
     "text": [
      "[ 23:40:02 ] direct.models INFO: Inititializing model\n",
      "test passed.\n"
     ]
    }
   ],
   "source": [
    "np.random.seed(0)\n",
    "tf.reset_default_graph()\n",
    "n_mix = 5\n",
    "# create a fake dataset\n",
    "n = 50\n",
    "sig2_grid = np.atleast_1d([0.01,0.02])\n",
    "x = np.random.rand(n,1);\n",
    "Phi = np.hstack((x, np.ones(x.shape)))\n",
    "xx = np.linspace(0,1,num=50).reshape((-1,1))\n",
    "Phi_X = np.hstack((xx, np.ones(xx.shape)))\n",
    "w_exact = 1.\n",
    "y = w_exact*np.sum(Phi,axis=1,keepdims=True)\n",
    "y += np.random.normal(size=(n,1), scale=np.sqrt(sig2_grid[0])) # add some noise\n",
    "\n",
    "# initialize the W grid, and the prior\n",
    "wbar = [-1.,-0.5,0.,0.5,1.]\n",
    "Wbar = np.array([wbar,]*Phi.shape[1])\n",
    "mbar = Wbar.shape[1]\n",
    "W = KhatriRaoMeshgrid(Wbar).expand()\n",
    "sig2_biggrid = np.tile(sig2_grid.reshape((-1,1)),(1,W.shape[1])).reshape(-1) # the sig2 elements correspond to W cols\n",
    "W = np.tile(W,(1,sig2_grid.size)) # W is repeated the number of times for sig2\n",
    "P = np.zeros((Phi.shape[1], mbar)) + 1./mbar # prior for weights\n",
    "psig = np.zeros(sig2_grid.shape) + 1./sig2_grid.size # prior for sig2\n",
    "\n",
    "# compute the exact log-likelihood\n",
    "logl_exact = np.zeros((W.shape[1],1))\n",
    "for i,(w,sig2) in enumerate(zip(W.T, sig2_biggrid)): # loop through each possible set of parameters\n",
    "    logl_exact[i] = -np.sum(np.power(y-Phi.dot(w.reshape((-1,1))), 2))/(2.*sig2) - n*np.log(sig2)/2\n",
    "del sig2\n",
    "\n",
    "# now initialize the model and compute the ELBO with a random initial variational distribution\n",
    "with tf.Session() as sess:\n",
    "    m = direct.BayesGLM(Phi=Phi, sig2_grid=sig2_grid, y=y, Wbar=Wbar, logP=np.log(P), logpsig=np.log(psig),n_mixtures=n_mix)\n",
    "    sess.run(tf.global_variables_initializer())\n",
    "    assert_array_almost_equal(np.ones((n_mix,m.b)), sess.run(tf.reduce_sum(tf.exp(m.logQ), axis=2)),\n",
    "                             err_msg=\"Var dist not normalized correctly.\")\n",
    "    ELBO_LB = sess.run(m.ELBO)\n",
    "    Q = sess.run(tf.exp(m.logQ))\n",
    "    A = sess.run(tf.exp(m.logA))\n",
    "    qsig = sess.run(tf.exp(m.logqsig))\n",
    "    mix = sess.run(tf.exp(m.log_mix))\n",
    "    assert_array_almost_equal(1.,mix.sum())\n",
    "\n",
    "# compute the ELBO manually\n",
    "prior_expanded = np.kron(psig.reshape((-1,1)), KronMatrix(np.expand_dims(P, axis=2)).expand())\n",
    "a_expanded = KronMatrix(np.expand_dims(A,axis=2)).expand()\n",
    "qw_expanded = np.hstack([mi*KronMatrix(np.expand_dims(Qi,axis=2)).expand() # q for latent vars only\n",
    "               for mi,Qi in zip(mix,Q)]).sum(axis=1, keepdims=True)\n",
    "q_expanded = np.kron(qsig,qw_expanded)\n",
    "assert_array_almost_equal(1.,q_expanded.sum())\n",
    "qTlogq_LB_exact = qsig.T.dot(np.log(qsig)) + \\\n",
    "        qw_expanded.T.dot(np.log(a_expanded) + (qw_expanded-a_expanded)/a_expanded)\n",
    "ELBO_LB_exact = q_expanded.T.dot(np.log(prior_expanded) + logl_exact) - qTlogq_LB_exact\n",
    "ELBO_exact = q_expanded.T.dot(np.log(prior_expanded) - np.log(q_expanded) + logl_exact)\n",
    "\n",
    "assert_array_less(ELBO_LB_exact, ELBO_exact, err_msg=\"Sanity check: ELBO lower bound not less than ELBO\")\n",
    "assert_array_almost_equal(ELBO_LB_exact, ELBO_LB, err_msg=\"ELBO LB not computed exactly\")\n",
    "print(\"test passed.\")"
   ]
  },
  {
   "cell_type": "markdown",
   "metadata": {},
   "source": [
    "### Optimize\n",
    "Optimize the variational distribution and ensure it to larger than the initial ELBO"
   ]
  },
  {
   "cell_type": "code",
   "execution_count": 7,
   "metadata": {},
   "outputs": [
    {
     "name": "stdout",
     "output_type": "stream",
     "text": [
      "[ 23:40:03 ] direct.models INFO: Inititializing model\n",
      "[ 23:40:03 ] direct.models INFO: Beginnning training iterations. n_epochs=1000\n",
      "[ 23:40:03 ] direct.models INFO: using L-BFGS-B optimizer\n",
      "Epoch: 0001, ELBO: -5644.4411, Time elapsed: 0.2976 seconds.\n",
      "Epoch: 0005, ELBO: -186.48538, Time elapsed: 0.3056 seconds.\n",
      "Epoch: 0010, ELBO: 80.729813, Time elapsed: 0.3126 seconds.\n",
      "Epoch: 0015, ELBO: 82.650035, Time elapsed: 0.3186 seconds.\n",
      "Epoch: 0020, ELBO: 82.73359, Time elapsed: 0.3246 seconds.\n",
      "Epoch: 0025, ELBO: 88.908316, Time elapsed: 0.3336 seconds.\n",
      "Epoch: 0030, ELBO: 88.910738, Time elapsed: 0.3396 seconds.\n",
      "INFO:tensorflow:Optimization terminated with:\n",
      "  Message: b'CONVERGENCE: REL_REDUCTION_OF_F_<=_FACTR*EPSMCH'\n",
      "  Objective function value: -88.912169\n",
      "  Number of iterations: 27\n",
      "  Number of functions evaluations: 34\n",
      "[ 23:40:04 ] tensorflow INFO: Optimization terminated with:\n",
      "  Message: b'CONVERGENCE: REL_REDUCTION_OF_F_<=_FACTR*EPSMCH'\n",
      "  Objective function value: -88.912169\n",
      "  Number of iterations: 27\n",
      "  Number of functions evaluations: 34\n",
      "Optimization Finished!\n",
      "Epoch: 0035, ELBO: 88.912169\n"
     ]
    }
   ],
   "source": [
    "tf.reset_default_graph()\n",
    "with tf.Session() as sess:\n",
    "    # reinitialize the model and compute the ELBO with initial variational distribution set to prior\n",
    "    m = direct.BayesGLM(Phi=Phi, sig2_grid=sig2_grid, y=y,Wbar=Wbar,logP=np.log(P),logpsig=np.log(psig),n_mixtures=n_mix)\n",
    "    sess.run(tf.global_variables_initializer())\n",
    "    trace = m.train(n_epochs=1000, sess=sess, display_step=5)\n",
    "    assert_array_less(ELBO, sess.run(m.ELBO), err_msg=\"ELBO did not increase in training\")\n",
    "    Q = sess.run(tf.exp(m.logQ))\n",
    "    qsig = sess.run(tf.exp(m.logqsig))\n",
    "    mix = sess.run(tf.exp(m.log_mix))\n",
    "    a_expanded = KronMatrix(np.expand_dims(sess.run(tf.exp(m.logA)),axis=2)).expand()\n",
    "    y_mean = sess.run(m.predict_mean(Phi_X=Phi_X))"
   ]
  },
  {
   "cell_type": "markdown",
   "metadata": {},
   "source": [
    "Plot the variational distribution verses the exact posterior. Also plot the prior since this was what the variational distribution was initialized to."
   ]
  },
  {
   "cell_type": "code",
   "execution_count": 8,
   "metadata": {},
   "outputs": [
    {
     "data": {
      "text/plain": [
       "<matplotlib.text.Text at 0x2b5634f2ba8>"
      ]
     },
     "execution_count": 8,
     "metadata": {},
     "output_type": "execute_result"
    },
    {
     "data": {
      "image/png": "[encoded data removed]",
      "text/plain": [
       "<matplotlib.figure.Figure at 0x2b56201df60>"
      ]
     },
     "metadata": {},
     "output_type": "display_data"
    }
   ],
   "source": [
    "fig, ax_arr = plt.subplots(ncols=3, figsize=(8,4))\n",
    "# compute the exact parameter posterior\n",
    "log_posterior = log_softmax(logl_exact + prior_expanded, axis=0).reshape(\n",
    "    (mbar,)*m.b + (sig2_grid.size,), order='F')[:,:,0] # take slice along first sig2 value\n",
    "# get the prior and the variational dist\n",
    "log_prior = prior_expanded.reshape((mbar,)*m.b + (sig2_grid.size,), order='F')[:,:,0] # slice along first sig2 value\n",
    "# log_variational = np.log(KronMatrix(np.expand_dims(Q,axis=2)).expand()).reshape((mbar,)*m.b, order='F')\n",
    "log_variational = np.log(np.hstack([mi*KronMatrix(np.expand_dims(Qi,axis=2)).expand()\n",
    "               for mi,Qi in zip(mix,Q)]).sum(axis=1, keepdims=True)).reshape((mbar,)*m.b, order='F')\n",
    "# get the min and max values of everything so that I can plot it all on the same scale\n",
    "vmin = np.min(np.hstack((log_posterior, log_prior, log_variational)))\n",
    "vmax = np.max(np.hstack((log_posterior, log_prior, log_variational)))\n",
    "\n",
    "# plot\n",
    "ax_arr[0].imshow(log_variational, interpolation='None', cmap='gray_r')#, vmin=vmin, vmax=vmax)\n",
    "ax_arr[0].set_title('Variational')\n",
    "ax_arr[1].imshow(log_posterior, interpolation='None', cmap='gray_r')#, vmin=vmin, vmax=vmax)\n",
    "ax_arr[1].set_title('Posterior')\n",
    "ax_arr[2].imshow(log_prior, interpolation='None', cmap='gray_r', vmin=log_prior.min()-0.1, vmax=log_prior.max()+0.1)\n",
    "ax_arr[2].set_title('Prior')"
   ]
  },
  {
   "cell_type": "markdown",
   "metadata": {},
   "source": [
    "Compute the posterior mean using the variational distribution. \n",
    "We will consider the full support of the variational distribution, i.e. consider every possible set of parameter values."
   ]
  },
  {
   "cell_type": "code",
   "execution_count": 9,
   "metadata": {},
   "outputs": [
    {
     "data": {
      "text/plain": [
       "<matplotlib.legend.Legend at 0x2b5635eb0f0>"
      ]
     },
     "execution_count": 9,
     "metadata": {},
     "output_type": "execute_result"
    },
    {
     "data": {
      "image/png": "[encoded data removed]",
      "text/plain": [
       "<matplotlib.figure.Figure at 0x2b561e6ae10>"
      ]
     },
     "metadata": {},
     "output_type": "display_data"
    }
   ],
   "source": [
    "fig, ax = plt.subplots()\n",
    "ax.plot(x,y,'o')\n",
    "ax.plot(xx, y_mean, label='Posterior mean')\n",
    "ax.plot(xx, w_exact*(xx+1.), label='exact')\n",
    "ax.legend(loc=0)"
   ]
  },
  {
   "cell_type": "markdown",
   "metadata": {},
   "source": [
    "## Test Sampling a Mixture Distribution\n",
    "Initialize a random mixture distribution and make sure that the sampling agrees with the exact mixture given a lot of samples.\n",
    "Also, test evaluating the variational log pdf."
   ]
  },
  {
   "cell_type": "code",
   "execution_count": 10,
   "metadata": {
    "scrolled": false
   },
   "outputs": [
    {
     "name": "stdout",
     "output_type": "stream",
     "text": [
      "[ 23:40:06 ] direct.models INFO: Inititializing model\n"
     ]
    },
    {
     "data": {
      "image/png": "[encoded data removed]",
      "text/plain": [
       "<matplotlib.figure.Figure at 0x2b56364b4a8>"
      ]
     },
     "metadata": {},
     "output_type": "display_data"
    }
   ],
   "source": [
    "np.random.seed(5)\n",
    "tf.set_random_seed(5)\n",
    "fig, ax_arr = plt.subplots(ncols=2, figsize=(6,4))\n",
    "n_samples = 3000\n",
    "tf.reset_default_graph()\n",
    "with tf.Session() as sess:\n",
    "    m = direct.BayesGLM(Phi=Phi, sig2_grid=sig2_grid, y=y,Wbar=Wbar,logP=np.log(P),logpsig=np.log(psig),\n",
    "                 logQ=np.random.randn(m.b, m.mbar), n_mixtures=n_mix)\n",
    "    sess.run(tf.global_variables_initializer())\n",
    "    # first get the exact log_variational distribution\n",
    "    Q = sess.run(tf.exp(m.logQ))\n",
    "    mix = sess.run(tf.exp(m.log_mix))\n",
    "    q_exact = np.hstack([mi*KronMatrix(np.expand_dims(Qi,axis=2)).expand()\n",
    "               for mi,Qi in zip(mix,Q)]).sum(axis=1, keepdims=True).reshape((mbar,)*m.b, order='F')\n",
    "    # then get the estimate from monte-carlo sampling\n",
    "    w_samples, sig2_samples = sess.run(m.sample_variational(n_samples=n_samples, sample_sig2=True))\n",
    "    q_mc = np.zeros((mbar,mbar))\n",
    "    for s in w_samples.T:\n",
    "        q_mc[s[0], s[1]] += 1./n_samples\n",
    "    # Test evaluating the variational log pdf at all points in hypothesis space\n",
    "    mesh = np.hstack([a.reshape((-1,1)) for a in np.meshgrid(\n",
    "        np.arange(m.mbar), np.arange(m.mbar), np.arange(psig.size))]); mesh = np.asarray(mesh, dtype=np.int32)\n",
    "    log_var_samples = sess.run(m.log_variational(w=tf.constant(mesh[:,:2].T), sig2=tf.constant(mesh[:,2:].T)))\n",
    "    logqsig = sess.run(m.logqsig).reshape(-1)\n",
    "    log_var_samples_exact = np.zeros(mesh.shape[0])\n",
    "    for i, (w, sig2) in enumerate(zip(mesh[:,:2], mesh[:,2:])):\n",
    "        log_var_samples_exact[i] = np.log(q_exact.T[w[0],w[1]]) + logqsig[sig2]\n",
    "    assert_almost_equal(1, np.exp(log_var_samples_exact).sum())\n",
    "    assert_almost_equal(1, np.exp(log_var_samples).sum())\n",
    "    assert_array_almost_equal(log_var_samples_exact, log_var_samples)\n",
    "\n",
    "# plot and make sure sample distribution aggrees\n",
    "ax_arr[0].imshow(q_exact, interpolation='None', cmap='gray_r')\n",
    "ax_arr[0].set_title('Variational Exact')\n",
    "ax_arr[1].imshow(q_mc.T, interpolation='None', cmap='gray_r')\n",
    "ax_arr[1].set_title('Variational MC Samples');\n",
    "assert_array_almost_equal(q_exact, q_mc.T, decimal=2)"
   ]
  },
  {
   "cell_type": "markdown",
   "metadata": {},
   "source": [
    "## Test Optimizing using the REINFORCE Entropy Surrogate"
   ]
  },
  {
   "cell_type": "code",
   "execution_count": 11,
   "metadata": {
    "scrolled": false
   },
   "outputs": [
    {
     "name": "stdout",
     "output_type": "stream",
     "text": [
      "training mixture model\n",
      "[ 23:40:06 ] direct.models INFO: Inititializing model\n",
      "[ 23:40:07 ] direct.models INFO: Beginnning training iterations. n_epochs=1000\n",
      "[ 23:40:07 ] direct.models INFO: using L-BFGS-B optimizer\n",
      "Epoch: 0001, ELBO: -5664.9901, Time elapsed: 0.2031 seconds.\n",
      "INFO:tensorflow:Optimization terminated with:\n",
      "  Message: b'CONVERGENCE: NORM_OF_PROJECTED_GRADIENT_<=_PGTOL'\n",
      "  Objective function value: -88.410092\n",
      "  Number of iterations: 18\n",
      "  Number of functions evaluations: 21\n",
      "[ 23:40:08 ] tensorflow INFO: Optimization terminated with:\n",
      "  Message: b'CONVERGENCE: NORM_OF_PROJECTED_GRADIENT_<=_PGTOL'\n",
      "  Objective function value: -88.410092\n",
      "  Number of iterations: 18\n",
      "  Number of functions evaluations: 21\n",
      "Optimization Finished!\n",
      "Epoch: 0022, ELBO: 88.410092\n",
      "[ 23:40:08 ] direct.models INFO: Beginnning training iterations. n_epochs=1000\n",
      "[ 23:40:08 ] direct.models INFO: using Adam optimizer\n",
      "Epoch: 0001, ELBO: 88.410092, Time elapsed: 0.2129 seconds.\n",
      "Epoch: 0050, ELBO: 88.410092, Time elapsed: 0.6427 seconds.\n",
      "Epoch: 0100, ELBO: 88.410092, Time elapsed: 1.071 seconds.\n",
      "Epoch: 0150, ELBO: 88.410093, Time elapsed: 1.522 seconds.\n",
      "Epoch: 0200, ELBO: 88.410093, Time elapsed: 1.972 seconds.\n",
      "Epoch: 0250, ELBO: 88.410093, Time elapsed: 2.356 seconds.\n",
      "Epoch: 0300, ELBO: 88.410093, Time elapsed: 2.774 seconds.\n",
      "Epoch: 0350, ELBO: 88.410094, Time elapsed: 3.204 seconds.\n",
      "Epoch: 0400, ELBO: 88.410094, Time elapsed: 3.659 seconds.\n",
      "Epoch: 0450, ELBO: 88.410095, Time elapsed: 4.065 seconds.\n",
      "Epoch: 0500, ELBO: 88.410095, Time elapsed: 4.62 seconds.\n",
      "Epoch: 0550, ELBO: 88.410096, Time elapsed: 5.026 seconds.\n",
      "Epoch: 0600, ELBO: 88.410097, Time elapsed: 5.437 seconds.\n",
      "Epoch: 0650, ELBO: 88.410098, Time elapsed: 5.856 seconds.\n",
      "Epoch: 0700, ELBO: 88.410099, Time elapsed: 6.272 seconds.\n",
      "Epoch: 0750, ELBO: 88.410101, Time elapsed: 6.705 seconds.\n",
      "Epoch: 0800, ELBO: 88.410103, Time elapsed: 7.128 seconds.\n",
      "Epoch: 0850, ELBO: 88.410105, Time elapsed: 7.562 seconds.\n",
      "Epoch: 0900, ELBO: 88.410108, Time elapsed: 8.1 seconds.\n",
      "Epoch: 0950, ELBO: 88.410111, Time elapsed: 8.565 seconds.\n",
      "Epoch: 1000, ELBO: 88.410116, Time elapsed: 9.006 seconds.\n",
      "Optimization Finished!\n",
      "Epoch: 1000, ELBO: 88.410116\n"
     ]
    },
    {
     "data": {
      "text/plain": [
       "<matplotlib.text.Text at 0x2b56938c588>"
      ]
     },
     "execution_count": 11,
     "metadata": {},
     "output_type": "execute_result"
    },
    {
     "data": {
      "image/png": "[encoded data removed]",
      "text/plain": [
       "<matplotlib.figure.Figure at 0x2b56360eac8>"
      ]
     },
     "metadata": {},
     "output_type": "display_data"
    }
   ],
   "source": [
    "np.random.seed(5)\n",
    "tf.set_random_seed(5)\n",
    "tf.reset_default_graph()\n",
    "n_mix = 5\n",
    "# now train a mixture model, first optimize with quasi-newton, then finish with SGD\n",
    "print(\"training mixture model\")\n",
    "tf.reset_default_graph()\n",
    "with tf.Session() as sess:\n",
    "    # reinitialize the model and compute the ELBO with initial variational distribution set to prior\n",
    "    m = direct.BayesGLM(Phi=Phi, sig2_grid=sig2_grid, y=y,Wbar=Wbar,logP=np.log(P),logpsig=np.log(psig),n_mixtures=n_mix,\n",
    "                reinforce_entropy=3000)\n",
    "    sess.run(tf.global_variables_initializer())\n",
    "    trace = m.train(n_epochs=1000, sess=sess, display_step=50, quasi_newton=True)\n",
    "    trace = m.train(n_epochs=1000, sess=sess, display_step=50, quasi_newton=False)\n",
    "    Q = sess.run(tf.exp(m.logQ))\n",
    "    qsig = sess.run(tf.exp(m.logqsig))\n",
    "    mix = sess.run(tf.exp(m.log_mix))\n",
    "    y_mean = sess.run(m.predict_mean(Phi_X=Phi_X))\n",
    "    \n",
    "# Plot the variational distribution verses the exact posterior. \n",
    "# Also plot the prior since this was what the variational distribution was initialized to. \n",
    "fig, ax_arr = plt.subplots(ncols=3, figsize=(8,4))\n",
    "# compute the exact parameter posterior\n",
    "log_posterior = log_softmax(logl_exact + prior_expanded, axis=0).reshape(\n",
    "    (mbar,)*m.b + (sig2_grid.size,), order='F')[:,:,0] # take slice along first sig2 value\n",
    "# get the prior and the variational dist\n",
    "log_prior = prior_expanded.reshape((mbar,)*m.b + (sig2_grid.size,), order='F')[:,:,0] # slice along first sig2 value\n",
    "# log_variational = np.log(KronMatrix(np.expand_dims(Q,axis=2)).expand()).reshape((mbar,)*m.b, order='F')\n",
    "log_variational = np.log(np.hstack([mi*KronMatrix(np.expand_dims(Qi,axis=2)).expand()\n",
    "               for mi,Qi in zip(mix,Q)]).sum(axis=1, keepdims=True)).reshape((mbar,)*m.b, order='F')\n",
    "# get the min and max values of everything so that I can plot it all on the same scale\n",
    "vmin = np.min(np.hstack((log_posterior, log_prior, log_variational)))\n",
    "vmax = np.max(np.hstack((log_posterior, log_prior, log_variational)))\n",
    "\n",
    "# plot\n",
    "ax_arr[0].imshow(log_variational, interpolation='None', cmap='gray_r')#, vmin=vmin, vmax=vmax)\n",
    "ax_arr[0].set_title('Variational')\n",
    "ax_arr[1].imshow(log_posterior, interpolation='None', cmap='gray_r')#, vmin=vmin, vmax=vmax)\n",
    "ax_arr[1].set_title('Posterior')\n",
    "ax_arr[2].imshow(log_prior, interpolation='None', cmap='gray_r', vmin=log_prior.min()-0.1, vmax=log_prior.max()+0.1)\n",
    "ax_arr[2].set_title('Prior')"
   ]
  },
  {
   "cell_type": "markdown",
   "metadata": {},
   "source": [
    "# More than Two Parameters\n",
    "Use the RBF RFF's to first solve a toy problem using a mean-field distribution"
   ]
  },
  {
   "cell_type": "code",
   "execution_count": 12,
   "metadata": {},
   "outputs": [
    {
     "name": "stdout",
     "output_type": "stream",
     "text": [
      "[ 23:40:19 ] direct.misc INFO: initializing RBF random fourier features\n",
      "[ 23:40:19 ] direct.models INFO: Inititializing model\n",
      "[ 23:40:19 ] direct.models INFO: Beginnning training iterations. n_epochs=1000\n",
      "[ 23:40:19 ] direct.models INFO: using L-BFGS-B optimizer\n",
      "Epoch: 0001, ELBO: -51.443672, Time elapsed: 0.441 seconds.\n",
      "Epoch: 0050, ELBO: -23.100838, Time elapsed: 0.509 seconds.\n",
      "Epoch: 0100, ELBO: -22.627448, Time elapsed: 0.5717 seconds.\n",
      "Epoch: 0150, ELBO: -22.618413, Time elapsed: 0.6377 seconds.\n",
      "Epoch: 0200, ELBO: -22.615755, Time elapsed: 0.6799 seconds.\n",
      "INFO:tensorflow:Optimization terminated with:\n",
      "  Message: b'CONVERGENCE: REL_REDUCTION_OF_F_<=_FACTR*EPSMCH'\n",
      "  Objective function value: 22.615533\n",
      "  Number of iterations: 205\n",
      "  Number of functions evaluations: 229\n",
      "[ 23:40:21 ] tensorflow INFO: Optimization terminated with:\n",
      "  Message: b'CONVERGENCE: REL_REDUCTION_OF_F_<=_FACTR*EPSMCH'\n",
      "  Objective function value: 22.615533\n",
      "  Number of iterations: 205\n",
      "  Number of functions evaluations: 229\n",
      "Optimization Finished!\n",
      "Epoch: 0230, ELBO: -22.615533\n"
     ]
    },
    {
     "data": {
      "image/png": "[encoded data removed]",
      "text/plain": [
       "<matplotlib.figure.Figure at 0x2b569693710>"
      ]
     },
     "metadata": {},
     "output_type": "display_data"
    },
    {
     "data": {
      "image/png": "[encoded data removed]",
      "text/plain": [
       "<matplotlib.figure.Figure at 0x2b569d23908>"
      ]
     },
     "metadata": {},
     "output_type": "display_data"
    }
   ],
   "source": [
    "with tf.Session() as sess:\n",
    "    np.random.seed(5)\n",
    "    n = 50\n",
    "    sig2_grid = np.array([0.01, 0.02])*100\n",
    "    x = np.linspace(0,1,num=n).reshape((-1,1))*10\n",
    "    xx = np.linspace(0,1,num=50).reshape((-1,1))*10\n",
    "\n",
    "    # get the features\n",
    "    kern = RBF_RFFs(1, n_rffs=3)\n",
    "    Phi = kern.Phi(x)\n",
    "    Phi_X = kern.Phi(xx)\n",
    "    sess.run(tf.global_variables_initializer())\n",
    "    Phi = sess.run(Phi)\n",
    "    Phi_X = sess.run(Phi_X)\n",
    "\n",
    "    # initialize the dataset and the model\n",
    "    w_exact = 0.9\n",
    "    y = w_exact*np.sum(Phi,axis=1,keepdims=True)\n",
    "    y += np.random.normal(size=(n,1), scale=np.sqrt(sig2_grid[0])) # add some noise\n",
    "    Wbar = np.array([[-1.,0.,1.],]*Phi.shape[1])\n",
    "    logP = np.zeros((Phi.shape[1], Wbar.shape[1])) # uniform prior\n",
    "    logpsig = np.zeros(sig2_grid.shape) # uniform prior\n",
    "    m = direct.BayesGLM(Phi=Phi, sig2_grid=sig2_grid, y=y, Wbar=Wbar, logP=logP, logpsig=logpsig, n_mixtures=5)\n",
    "\n",
    "    # train the model and plot the posterior mean\n",
    "    sess.run(tf.global_variables_initializer())\n",
    "    m.train(n_epochs=1000, sess=sess)\n",
    "    plt.bar(np.arange(m.n_mixtures), sess.run(tf.exp(m.log_mix)))\n",
    "    plt.ylabel(\"mixture probabilities\")\n",
    "    logQ = sess.run(m.logQ)\n",
    "    logA = sess.run(m.logA)\n",
    "    y_mean = sess.run(m.predict_mean(Phi_X=Phi_X))\n",
    "\n",
    "    fig, ax = plt.subplots()\n",
    "    ax.plot(x,y,'o')\n",
    "    ax.plot(xx, y_mean, label='Posterior mean')\n",
    "    ax.plot(xx, w_exact*np.sum(Phi_X,axis=1,keepdims=True), label='exact')\n",
    "    ax.legend(loc=0)"
   ]
  },
  {
   "cell_type": "markdown",
   "metadata": {},
   "source": [
    "## Scalability\n",
    "Test to ensure that quadratic scaling is achieved for evaluating the ELBO.\n",
    "In addition to computing the time for the ELBO, we verify that inner products with the log-likelihood are faster when the sub-matricies are in a compact form verses an expanded form. We see that for higher $b$ (i.e. larger models) that this is the case."
   ]
  },
  {
   "cell_type": "code",
   "execution_count": 13,
   "metadata": {},
   "outputs": [
    {
     "name": "stdout",
     "output_type": "stream",
     "text": [
      "r_ffs=50\n",
      "[ 23:40:22 ] direct.misc INFO: initializing RBF random fourier features\n",
      "[ 23:40:23 ] direct.models INFO: Inititializing model\n",
      "r_ffs=100\n",
      "[ 23:40:24 ] direct.misc INFO: initializing RBF random fourier features\n",
      "[ 23:40:24 ] direct.models INFO: Inititializing model\n",
      "r_ffs=150\n",
      "[ 23:40:25 ] direct.misc INFO: initializing RBF random fourier features\n",
      "[ 23:40:26 ] direct.models INFO: Inititializing model\n",
      "r_ffs=200\n",
      "[ 23:40:27 ] direct.misc INFO: initializing RBF random fourier features\n",
      "[ 23:40:28 ] direct.models INFO: Inititializing model\n",
      "r_ffs=250\n",
      "[ 23:40:29 ] direct.misc INFO: initializing RBF random fourier features\n",
      "[ 23:40:29 ] direct.models INFO: Inititializing model\n",
      "r_ffs=300\n",
      "[ 23:40:31 ] direct.misc INFO: initializing RBF random fourier features\n",
      "[ 23:40:32 ] direct.models INFO: Inititializing model\n",
      "r_ffs=350\n",
      "[ 23:40:34 ] direct.misc INFO: initializing RBF random fourier features\n",
      "[ 23:40:34 ] direct.models INFO: Inititializing model\n"
     ]
    }
   ],
   "source": [
    "np.random.seed(0)\n",
    "from time import time\n",
    "n = 5\n",
    "sig2_grid = np.array([0.01,])\n",
    "logpsig = np.zeros(sig2_grid.shape)\n",
    "x = np.linspace(0,1,num=n).reshape((-1,1))*10\n",
    "xx = np.linspace(0,1,num=50).reshape((-1,1))*10\n",
    "\n",
    "# setup experiment initialization stuff\n",
    "n_tests = 7\n",
    "space = 50\n",
    "n_rff_grid = np.arange(space,space*n_tests+1,space)\n",
    "n_features = np.zeros(n_rff_grid.shape, dtype=int)\n",
    "n_mc = 3\n",
    "timings = np.zeros((n_rff_grid.size,n_mc))\n",
    "t_logl_compact = np.zeros((n_rff_grid.size,n_mc))\n",
    "t_logl_expanded = np.zeros((n_rff_grid.size,n_mc))\n",
    "for i,n_rffs in enumerate(n_rff_grid):\n",
    "    print(\"r_ffs=%d\"%n_rffs)\n",
    "    # get the features\n",
    "    kern = RBF_RFFs(1, n_rffs=n_rffs)\n",
    "    Phi = kern.Phi(x)\n",
    "    Phi_X = kern.Phi(xx)\n",
    "    with tf.Session() as sess:\n",
    "        sess.run(tf.global_variables_initializer())\n",
    "        Phi = sess.run(Phi)\n",
    "        Phi_X = sess.run(Phi_X)\n",
    "\n",
    "        # initialize the dataset and the model\n",
    "        w_exact = 0.9\n",
    "        y = w_exact*np.sum(Phi,axis=1,keepdims=True)\n",
    "        y += np.random.normal(size=(n,1), scale=np.sqrt(sig2_grid[0])) # add some noise\n",
    "        Wbar = np.array([[-1.,0.,1.],]*Phi.shape[1])\n",
    "        logP = np.zeros((Phi.shape[1], Wbar.shape[1])) # uniform prior\n",
    "        m = direct.BayesGLM(Phi=Phi, sig2_grid=sig2_grid, y=y, Wbar=Wbar, logP=logP, logpsig=logpsig)\n",
    "\n",
    "        # evaluate the time to compute the ELBO several times\n",
    "        n_features[i] = kern.n_features\n",
    "        for j in range(n_mc):\n",
    "            #print \"\\t%d mc iteration\"%j\n",
    "            # compute the elbo\n",
    "            sess.run(tf.global_variables_initializer())\n",
    "            t0 = time()\n",
    "            sess.run(m.ELBO) # compute the elbo\n",
    "            t1 = time()\n",
    "            timings[i,j] = t1-t0"
   ]
  },
  {
   "cell_type": "code",
   "execution_count": 14,
   "metadata": {},
   "outputs": [
    {
     "name": "stdout",
     "output_type": "stream",
     "text": [
      "0.416599034038\n"
     ]
    },
    {
     "data": {
      "image/png": "[encoded data removed]",
      "text/plain": [
       "<matplotlib.figure.Figure at 0x2b563594cc0>"
      ]
     },
     "metadata": {},
     "output_type": "display_data"
    }
   ],
   "source": [
    "# now plot average time on a loglog scale\n",
    "plt.loglog(n_features, timings.mean(axis=1), label=\"ELBO\")\n",
    "\n",
    "# check the computation order\n",
    "from scipy.stats import linregress\n",
    "for t in [timings,]:# t_logl_compact, t_logl_expanded]:\n",
    "    slope, intercept, r_value, p_value, std_err = linregress(x=np.log(n_features), y=np.log(t.mean(axis=1)))\n",
    "    print(slope)"
   ]
  }
 ],
 "metadata": {
  "kernelspec": {
   "display_name": "Python [conda env:py36_tensorflow]",
   "language": "python",
   "name": "conda-env-py36_tensorflow-py"
  },
  "language_info": {
   "codemirror_mode": {
    "name": "ipython",
    "version": 3
   },
   "file_extension": ".py",
   "mimetype": "text/x-python",
   "name": "python",
   "nbconvert_exporter": "python",
   "pygments_lexer": "ipython3",
   "version": "3.6.2"
  }
 },
 "nbformat": 4,
 "nbformat_minor": 2
}
