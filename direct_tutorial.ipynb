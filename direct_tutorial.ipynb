{
 "cells": [
  {
   "cell_type": "code",
   "execution_count": 1,
   "metadata": {
    "collapsed": true
   },
   "outputs": [],
   "source": [
    "% matplotlib inline\n",
    "import matplotlib.pyplot as plt\n",
    "import numpy as np\n",
    "from pdb import set_trace\n",
    "import direct\n",
    "from direct.misc import RBF_RFFs, KronMatrix, KhatriRaoMeshgrid, log_softmax\n",
    "import tensorflow as tf"
   ]
  },
  {
   "cell_type": "markdown",
   "metadata": {},
   "source": [
    "# Two-Variable Model\n",
    "First generate a one-dimensional toy-dataset that that we will fit with a DIRECT generalized linear model with two discrete latent variables so that we can visualize our variational posterior distribution.\n",
    "Because our hypothesis space is so small with this two variable model, we can also compute the exact posterior distribution and visualize that as well.\n",
    "We will use a mean-field variational distribution and will place a uniform prior over the discrete states that each latent variable can take.\n",
    "\n",
    "It is evident from the plots that the variational distribution placed the probability mass in the correct location but this mean-field distribution cannot capture all the features of the exact posterior.\n",
    "Looking at the predictive posterior, it is evident that the predictive posterior mean is very accurate."
   ]
  },
  {
   "cell_type": "code",
   "execution_count": 24,
   "metadata": {},
   "outputs": [
    {
     "name": "stdout",
     "output_type": "stream",
     "text": [
      "[ 00:23:02 ] direct.models INFO: Inititializing model\n",
      "[ 00:23:02 ] direct.models INFO: Beginnning training iterations. n_epochs=1000\n",
      "[ 00:23:02 ] direct.models INFO: using L-BFGS-B optimizer\n",
      "Epoch: 0001, ELBO: -7566.2152, Time elapsed: 0.3334 seconds.\n",
      "Epoch: 0005, ELBO: -19.893955, Time elapsed: 0.3566 seconds.\n",
      "Epoch: 0010, ELBO: 86.31064, Time elapsed: 0.3726 seconds.\n",
      "Epoch: 0015, ELBO: 89.500266, Time elapsed: 0.3906 seconds.\n",
      "Epoch: 0020, ELBO: 89.600019, Time elapsed: 0.4096 seconds.\n",
      "Epoch: 0025, ELBO: 89.603137, Time elapsed: 0.4276 seconds.\n",
      "INFO:tensorflow:Optimization terminated with:\n",
      "  Message: b'CONVERGENCE: NORM_OF_PROJECTED_GRADIENT_<=_PGTOL'\n",
      "  Objective function value: -89.603225\n",
      "  Number of iterations: 27\n",
      "  Number of functions evaluations: 28\n",
      "[ 00:23:03 ] tensorflow INFO: Optimization terminated with:\n",
      "  Message: b'CONVERGENCE: NORM_OF_PROJECTED_GRADIENT_<=_PGTOL'\n",
      "  Objective function value: -89.603225\n",
      "  Number of iterations: 27\n",
      "  Number of functions evaluations: 28\n",
      "Optimization Finished!\n",
      "Epoch: 0029, ELBO: 89.603225\n"
     ]
    },
    {
     "data": {
      "image/png": "[encoded data removed]",
      "text/plain": [
       "<matplotlib.figure.Figure at 0x22996821240>"
      ]
     },
     "metadata": {},
     "output_type": "display_data"
    },
    {
     "data": {
      "image/png": "[encoded data removed]",
      "text/plain": [
       "<matplotlib.figure.Figure at 0x2299178eb38>"
      ]
     },
     "metadata": {},
     "output_type": "display_data"
    }
   ],
   "source": [
    "np.random.seed(0)\n",
    "\n",
    "# create a fake dataset from a 1D linear model with a bias term and corrupt with\n",
    "# independent Gaussian noise\n",
    "n = 50\n",
    "noise_variance = 0.01\n",
    "x = np.random.rand(n,1);\n",
    "Phi = np.hstack((x, np.ones(x.shape)))\n",
    "xx = np.linspace(0,1,num=50).reshape((-1,1))\n",
    "Phi_X = np.hstack((xx, np.ones(xx.shape)))\n",
    "w_exact = 1.\n",
    "y = w_exact*np.sum(Phi,axis=1,keepdims=True)\n",
    "y += np.random.normal(size=(n,1), scale=np.sqrt(noise_variance)) # add some noise\n",
    "\n",
    "# initialize the W grid of discrete values the latent variables can take, and the prior / variational distibution\n",
    "wbar = [-1.,-0.5,0.,0.5,1.]\n",
    "Wbar = np.array([wbar,]*Phi.shape[1])\n",
    "mbar = Wbar.shape[1]\n",
    "P = np.zeros((Phi.shape[1], mbar)) + 1./mbar # prior for weights\n",
    "\n",
    "# train the direct model\n",
    "with tf.Session() as sess:\n",
    "    # reinitialize the model and compute the ELBO with initial variational distribution set to prior\n",
    "    m = direct.BayesGLM(Phi=Phi, sig2_grid=np.atleast_1d(noise_variance), y=y, Wbar=Wbar, logP=np.log(P), logpsig=np.zeros(1))\n",
    "    sess.run(tf.global_variables_initializer())\n",
    "    trace = m.train(n_epochs=1000, sess=sess, display_step=5)\n",
    "    Q = sess.run(tf.exp(m.logQ))\n",
    "    qsig = sess.run(tf.exp(m.logqsig))\n",
    "    y_mean = sess.run(m.predict_mean(Phi_X=Phi_X))\n",
    "\n",
    "# compute the exact posterior for comparison with the learned variational distribution\n",
    "W = KhatriRaoMeshgrid(Wbar).expand()\n",
    "# compute the exact log-likelihood\n",
    "logl_exact = np.zeros((W.shape[1],1))\n",
    "for i,w in enumerate(W.T): # loop through each possible set of parameters\n",
    "    logl_exact[i] = -np.sum(np.power(y-Phi.dot(w.reshape((-1,1))), 2))/(2.*noise_variance) - n*np.log(noise_variance)/2\n",
    "# compute the exact parameter posterior\n",
    "prior_expanded = KronMatrix(np.expand_dims(P, axis=2)).expand()\n",
    "log_posterior = log_softmax(logl_exact + prior_expanded, axis=0).reshape((mbar,)*m.b, order='F')\n",
    "# get the prior and the variational dist\n",
    "log_prior = prior_expanded.reshape((mbar,)*m.b, order='F')\n",
    "log_variational = np.log(KronMatrix(np.expand_dims(Q,axis=2)).expand()).reshape((mbar,)*m.b, order='F')\n",
    "# get the min and max values of everything so that I can plot it all on the same scale\n",
    "vmin = np.min(np.hstack((log_posterior, log_prior, log_variational)))\n",
    "vmax = np.max(np.hstack((log_posterior, log_prior, log_variational)))\n",
    "\n",
    "# plot the posterior distribution of the latent variables\n",
    "fig, ax_arr = plt.subplots(ncols=3, figsize=(8,4))\n",
    "ax_arr[0].imshow(log_variational, interpolation='None', cmap='gray_r')#, vmin=vmin, vmax=vmax)\n",
    "ax_arr[0].set_title('Log Variational')\n",
    "ax_arr[1].imshow(log_posterior, interpolation='None', cmap='gray_r')#, vmin=vmin, vmax=vmax)\n",
    "ax_arr[1].set_title('Log Posterior')\n",
    "ax_arr[2].imshow(log_prior, interpolation='None', cmap='gray_r', vmin=log_prior.min()-0.1, vmax=log_prior.max()+0.1)\n",
    "ax_arr[2].set_title('Log Prior');\n",
    "\n",
    "# plot the predictive posterior mean\n",
    "fig, ax = plt.subplots()\n",
    "ax.plot(x,y,'ko')\n",
    "ax.plot(xx, w_exact*(xx+1.), 'k', label='exact')\n",
    "ax.plot(xx, y_mean, 'b', label='Predictive Posterior mean')\n",
    "ax.legend(loc=0);"
   ]
  }
 ],
 "metadata": {
  "kernelspec": {
   "display_name": "Python [conda env:py36_tensorflow]",
   "language": "python",
   "name": "conda-env-py36_tensorflow-py"
  },
  "language_info": {
   "codemirror_mode": {
    "name": "ipython",
    "version": 3
   },
   "file_extension": ".py",
   "mimetype": "text/x-python",
   "name": "python",
   "nbconvert_exporter": "python",
   "pygments_lexer": "ipython3",
   "version": "3.6.2"
  }
 },
 "nbformat": 4,
 "nbformat_minor": 2
}
